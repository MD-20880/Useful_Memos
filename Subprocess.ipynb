{
 "cells": [
  {
   "cell_type": "code",
   "execution_count": 2,
   "metadata": {
    "collapsed": true
   },
   "outputs": [],
   "source": [
    "import subprocess"
   ]
  },
  {
   "cell_type": "markdown",
   "source": [
    "CASE1\n",
    "---\n",
    "在这里，我将需要使用的命令以空格作为分离符号填入list中，使用subprocess.run()方法去在系统中运行指令"
   ],
   "metadata": {
    "collapsed": false
   }
  },
  {
   "cell_type": "code",
   "execution_count": 7,
   "outputs": [
    {
     "name": "stdout",
     "output_type": "stream",
     "text": [
      "total 16\n",
      "drwxr-xr-x   7 mac  staff   224 Mar 20 13:58 .\n",
      "drwxr-xr-x  17 mac  staff   544 Mar 20 13:48 ..\n",
      "drwxr-xr-x  12 mac  staff   384 Mar 20 13:51 .git\n",
      "drwxr-xr-x   9 mac  staff   288 Mar 20 13:58 .idea\n",
      "-rw-r--r--   1 mac  staff    82 Mar 20 13:53 README.md\n",
      "-rw-r--r--   1 mac  staff  1555 Mar 20 13:58 Subprocess.ipynb\n",
      "drwxr-xr-x   8 mac  staff   256 Mar 20 13:53 venv\n",
      "\n"
     ]
    }
   ],
   "source": [
    "res = subprocess.run([\"ls\",\"-al\"],stdout=subprocess.PIPE).stdout.decode(\"utf-8\")\n",
    "print(res)"
   ],
   "metadata": {
    "collapsed": false,
    "pycharm": {
     "name": "#%%\n"
    }
   }
  },
  {
   "cell_type": "markdown",
   "source": [
    "Examples // Useful Codes\n",
    "==\n",
    "\n",
    "\n",
    "This is code from COLAB DISCO DIFFUSSION"
   ],
   "metadata": {
    "collapsed": false
   }
  },
  {
   "cell_type": "code",
   "execution_count": null,
   "outputs": [],
   "source": [
    "#@title 1.2 Prepare Folders\n",
    "import subprocess\n",
    "import sys\n",
    "import ipykernel\n",
    "\n",
    "def gitclone(url):\n",
    "  res = subprocess.run(['git', 'clone', url], stdout=subprocess.PIPE).stdout.decode('utf-8')\n",
    "  print(res)\n",
    "\n",
    "def pipi(modulestr):\n",
    "  res = subprocess.run(['pip', 'install', modulestr], stdout=subprocess.PIPE).stdout.decode('utf-8')\n",
    "  print(res)\n",
    "\n",
    "def pipie(modulestr):\n",
    "  res = subprocess.run(['git', 'install', '-e', modulestr], stdout=subprocess.PIPE).stdout.decode('utf-8')\n",
    "  print(res)\n",
    "\n",
    "def wget(url, outputdir):\n",
    "  res = subprocess.run(['wget', url, '-P', f'{outputdir}'], stdout=subprocess.PIPE).stdout.decode('utf-8')\n",
    "  print(res)\n",
    "\n",
    "try:\n",
    "    from google.colab import drive\n",
    "    print(\"Google Colab detected. Using Google Drive.\")\n",
    "    is_colab = True\n",
    "    #@markdown If you connect your Google Drive, you can save the final image of each run on your drive.\n",
    "    google_drive = True #@param {type:\"boolean\"}\n",
    "    #@markdown Click here if you'd like to save the diffusion model checkpoint file to (and/or load from) your Google Drive:\n",
    "    save_models_to_google_drive = True #@param {type:\"boolean\"}\n",
    "except:\n",
    "    is_colab = False\n",
    "    google_drive = False\n",
    "    save_models_to_google_drive = False\n",
    "    print(\"Google Colab not detected.\")\n",
    "\n",
    "if is_colab:\n",
    "    if google_drive is True:\n",
    "        drive.mount('/content/drive')\n",
    "        root_path = '/content/drive/MyDrive/AI/Disco_Diffusion'\n",
    "    else:\n",
    "        root_path = '/content'\n",
    "else:\n",
    "    root_path = '.'\n",
    "\n",
    "import os\n",
    "from os import path\n",
    "#Simple create paths taken with modifications from Datamosh's Batch VQGAN+CLIP notebook\n",
    "def createPath(filepath):\n",
    "    if path.exists(filepath) == False:\n",
    "      os.makedirs(filepath)\n",
    "      print(f'Made {filepath}')\n",
    "    else:\n",
    "      print(f'filepath {filepath} exists.')\n",
    "\n",
    "initDirPath = f'{root_path}/init_images'\n",
    "createPath(initDirPath)\n",
    "outDirPath = f'{root_path}/images_out'\n",
    "createPath(outDirPath)\n",
    "\n",
    "if is_colab:\n",
    "    if google_drive and not save_models_to_google_drive or not google_drive:\n",
    "        model_path = '/content/model'\n",
    "        createPath(model_path)\n",
    "    if google_drive and save_models_to_google_drive:\n",
    "        model_path = f'{root_path}/model'\n",
    "        createPath(model_path)\n",
    "else:\n",
    "    model_path = f'{root_path}/model'\n",
    "    createPath(model_path)\n",
    "\n",
    "# libraries = f'{root_path}/libraries'\n",
    "# createPath(libraries)"
   ],
   "metadata": {
    "collapsed": false,
    "pycharm": {
     "name": "#%%\n"
    }
   }
  }
 ],
 "metadata": {
  "kernelspec": {
   "display_name": "Python 3",
   "language": "python",
   "name": "python3"
  },
  "language_info": {
   "codemirror_mode": {
    "name": "ipython",
    "version": 2
   },
   "file_extension": ".py",
   "mimetype": "text/x-python",
   "name": "python",
   "nbconvert_exporter": "python",
   "pygments_lexer": "ipython2",
   "version": "2.7.6"
  }
 },
 "nbformat": 4,
 "nbformat_minor": 0
}